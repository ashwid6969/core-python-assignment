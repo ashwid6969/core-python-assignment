{
 "cells": [
  {
   "cell_type": "code",
   "execution_count": 2,
   "id": "7aa7841f-ab7f-460e-b836-62658016d502",
   "metadata": {},
   "outputs": [
    {
     "name": "stdout",
     "output_type": "stream",
     "text": [
      "Total Price: 54000\n"
     ]
    }
   ],
   "source": [
    "def calculate_total_price(cart_items):\n",
    "    if not cart_items:\n",
    "        return \"Cart is empty.\"\n",
    "    total_items = len(cart_items)\n",
    "    total_price = sum(cart_items.values())\n",
    "    if total_items > 5:\n",
    "        discount = total_price * 10/100\n",
    "        total_price -= discount\n",
    "\n",
    "    return f\"Total Price: {int(total_price)}\"\n",
    "cart_items = {'Laptop': 50000, 'Headphones': 2000, 'Mouse': 500, 'Keyboard': 1500}\n",
    "print(calculate_total_price(cart_items))\n"
   ]
  },
  {
   "cell_type": "code",
   "execution_count": 14,
   "id": "5e8d17ea-730f-43bd-94f0-618f9ef260c7",
   "metadata": {},
   "outputs": [
    {
     "name": "stdout",
     "output_type": "stream",
     "text": [
      "Initial menu: ['Pizza', 'Burger', 'Pasta', 'Salad']\n",
      "Updated menu after adding 'Tacos': ['Pizza', 'Burger', 'Pasta', 'Salad', 'Tacos']\n",
      "Updated menu after removing 'Salad': ['Pizza', 'Burger', 'Pasta', 'Tacos']\n",
      "Error: 'Fries' is not on the menu.\n",
      "Final menu after attempting to remove 'Fries': ['Pizza', 'Burger', 'Pasta', 'Tacos']\n",
      "Availability check for 'Pizza': 'Pizza' is available\n",
      "Availability check for 'Salad': 'Salad' is not available\n"
     ]
    }
   ],
   "source": [
    "def add_menu_item(menu, item):\n",
    "  updated_menu = menu + [item]\n",
    "  return updated_menu\n",
    "def remove_menu_item(menu, item):\n",
    "  if item in menu:\n",
    "    updated_menu = [i for i in menu if i != item]\n",
    "    return updated_menu\n",
    "  else:\n",
    "    print(f\"Error: '{item}' is not on the menu.\")\n",
    "    return menu\n",
    "def check_menu_item(menu, item):\n",
    "  if item in menu:\n",
    "    return f\"'{item}' is available\"\n",
    "  else:\n",
    "    return f\"'{item}' is not available\"\n",
    "initial_menu = [\"Pizza\", \"Burger\", \"Pasta\", \"Salad\"]\n",
    "print(f\"Initial menu: {initial_menu}\")\n",
    "add_item = \"Tacos\"\n",
    "updated_add = add_menu_item(initial_menu, add_item)\n",
    "print(f\"Updated menu after adding '{add_item}': {updated_menu_after_add}\")\n",
    "remove_item = \"Salad\"\n",
    "updated_remove = remove_menu_item(updated_menu_after_add, remove_item)\n",
    "print(f\"Updated menu after removing '{remove_item}': {updated_menu_after_remove}\")\n",
    "remove_item = \"Fries\"\n",
    "final_menu = remove_menu_item(updated_menu_after_remove, remove_non_existent_item)\n",
    "print(f\"Final menu after attempting to remove '{remove_non_existent_item}': {final_menu}\")\n",
    "check_item_available = \"Pizza\"\n",
    "availability_check_available = check_menu_item(final_menu, check_item_available)\n",
    "print(f\"Availability check for '{check_item_available}': {availability_check_available}\")\n",
    "check_item_unavailable = \"Salad\"\n",
    "availability_check_unavailable = check_menu_item(final_menu, check_item_unavailable)\n",
    "print(f\"Availability check for '{check_item_unavailable}': {availability_check_unavailable}\")"
   ]
  },
  {
   "cell_type": "code",
   "execution_count": 20,
   "id": "be5f912f-64fa-4ca5-bd5d-6be8de9318cd",
   "metadata": {},
   "outputs": [
    {
     "name": "stdout",
     "output_type": "stream",
     "text": [
      "Average Marks:\n",
      "John: 85.00\n",
      "Alice: 87.33\n",
      "Bob: 75.00\n",
      "\n",
      "Top Performer: Alice with average 87.33\n"
     ]
    }
   ],
   "source": [
    "class student:\n",
    "    def __init__(self, name, marks):\n",
    "        self.name = name\n",
    "        self.marks = marks\n",
    "    def average(self):\n",
    "        return sum(self.marks) / len(self.marks)\n",
    "def calculate_averages_and_top_performer(students_dict):\n",
    "    students = [student(name, marks) for name, marks in students_dict.items()]\n",
    "    averages = {student.name: student.average() for student in students}\n",
    "\n",
    "    top_student = max(students, key=lambda s: s.average())\n",
    "    \n",
    "    return averages, top_student.name, top_student.average()\n",
    "students = {\n",
    "    \"John\": [85, 78, 92],\n",
    "    \"Alice\": [88, 79, 95],\n",
    "    \"Bob\": [70, 75, 80]\n",
    "}\n",
    "averages, top_name, top_avg = calculate_averages_and_top_performer(students)\n",
    "print(\"Average Marks:\")\n",
    "for name, avg in averages.items():\n",
    "    print(f\"{name}: {avg:.2f}\")\n",
    "print(f\"\\nTop Performer: {top_name} with average {top_avg:.2f}\")\n"
   ]
  },
  {
   "cell_type": "code",
   "execution_count": 22,
   "id": "67b7cb66-b29b-4a32-9370-7091e5737307",
   "metadata": {},
   "outputs": [
    {
     "name": "stdout",
     "output_type": "stream",
     "text": [
      "Available seats: [1, 4, 5, 6, 8, 9, 10]\n"
     ]
    }
   ],
   "source": [
    "def book_seat(booked_seats, seat_number, total_seats):\n",
    "    if seat_number < 1 or seat_number > total_seats:\n",
    "        print(f\"Seat {seat_number} is out of range.\")\n",
    "    elif seat_number in booked_seats:\n",
    "        print(f\"Seat {seat_number} is already booked.\")\n",
    "    else:\n",
    "        booked_seats.append(seat_number)\n",
    "def cancel_seat_booking(booked_seats, seat_number):\n",
    "    if seat_number in booked_seats:\n",
    "        booked_seats.remove(seat_number)\n",
    "    else:\n",
    "        print(f\"Seat {seat_number} is not booked.\")\n",
    "def get_available_seats(total_seats, booked_seats):\n",
    "    return [seat for seat in range(1, total_seats + 1) if seat not in booked_seats]\n",
    "total_seats = 10\n",
    "booked_seats = [2, 5, 7]\n",
    "book_seat(booked_seats, 3, total_seats)\n",
    "cancel_seat_booking(booked_seats, 5)\n",
    "available_seats = get_available_seats(total_seats, booked_seats)\n",
    "print(f\"Available seats: {available_seats}\")\n"
   ]
  },
  {
   "cell_type": "code",
   "execution_count": 28,
   "id": "fcd56900-d66d-4c08-a0c4-9e1f8483e1c0",
   "metadata": {},
   "outputs": [
    {
     "name": "stdout",
     "output_type": "stream",
     "text": [
      "Patients with Flu: ['Alice', 'Charlie']\n"
     ]
    }
   ],
   "source": [
    "class Patient:\n",
    "    def __init__(self, name, age, disease):\n",
    "        self.name = name\n",
    "        self.age = age\n",
    "        self.disease = disease\n",
    "\n",
    "    def to_dict(self):\n",
    "        return {\"Name\": self.name, \"Age\": self.age, \"Disease\": self.disease}\n",
    "\n",
    "\n",
    "def search_patients_by_disease(patients, disease):\n",
    "    return [patient[\"Name\"] for patient in patients if patient[\"Disease\"] == disease]\n",
    "patients = [\n",
    "    Patient(\"Alice\", 30, \"Flu\").to_dict(),\n",
    "    Patient(\"Bob\", 45, \"Diabetes\").to_dict(),\n",
    "    Patient(\"Charlie\", 35, \"Flu\").to_dict()\n",
    "]\n",
    "search_disease = \"Flu\"\n",
    "matching_patients = search_patients_by_disease(patients, search_disease)\n",
    "print(f\"Patients with {search_disease}: {matching_patients}\")\n"
   ]
  },
  {
   "cell_type": "code",
   "execution_count": 30,
   "id": "2b5d0ed0-1ba1-4f73-aef2-924c76547477",
   "metadata": {},
   "outputs": [
    {
     "name": "stdout",
     "output_type": "stream",
     "text": [
      "Positive Feedback: 62.50%\n"
     ]
    }
   ],
   "source": [
    "def calculate_positive_feedback_percentage(ratings):\n",
    "    if not ratings:\n",
    "        return \"No ratings available.\"\n",
    "\n",
    "    positive_count = sum(1 for rating in ratings if rating >= 4)\n",
    "    percentage = (positive_count / len(ratings)) * 100\n",
    "    return f\"Positive Feedback: {percentage:.2f}%\"\n",
    "ratings = [5, 4, 3, 5, 2, 4, 1, 5]\n",
    "result = calculate_positive_feedback_percentage(ratings)\n",
    "print(result)\n"
   ]
  },
  {
   "cell_type": "code",
   "execution_count": 32,
   "id": "1d0c549a-62fd-4dca-9c7c-8b6405d70506",
   "metadata": {},
   "outputs": [
    {
     "name": "stdout",
     "output_type": "stream",
     "text": [
      "Trip 1: $100\n",
      "Trip 2: $150\n",
      "Trip 3: $80\n",
      "\n",
      "Total Fare: $330\n"
     ]
    }
   ],
   "source": [
    "def calculate_fare(distance, base_fare=50, per_km_rate=10):\n",
    "    return base_fare + (distance * per_km_rate)\n",
    "trips = [5, 10, 3]\n",
    "total_fare = 0\n",
    "for i, distance in enumerate(trips, start=1):\n",
    "    fare = calculate_fare(distance)\n",
    "    total_fare += fare\n",
    "    print(f\"Trip {i}: ${fare}\")\n",
    "print(f\"\\nTotal Fare: ${total_fare}\")\n"
   ]
  },
  {
   "cell_type": "code",
   "execution_count": null,
   "id": "c59ddd76-e161-45bd-a469-040c53cf4be4",
   "metadata": {},
   "outputs": [],
   "source": []
  }
 ],
 "metadata": {
  "kernelspec": {
   "display_name": "Python 3 (ipykernel)",
   "language": "python",
   "name": "python3"
  },
  "language_info": {
   "codemirror_mode": {
    "name": "ipython",
    "version": 3
   },
   "file_extension": ".py",
   "mimetype": "text/x-python",
   "name": "python",
   "nbconvert_exporter": "python",
   "pygments_lexer": "ipython3",
   "version": "3.12.4"
  }
 },
 "nbformat": 4,
 "nbformat_minor": 5
}
